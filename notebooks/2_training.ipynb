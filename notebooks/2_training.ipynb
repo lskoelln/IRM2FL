{
 "cells": [
  {
   "cell_type": "markdown",
   "id": "564d8e0a",
   "metadata": {},
   "source": [
    "## Training with IRM2FL\n",
    "\n",
    "Different neural network frameworks are trained with for artificial labelling of focal adhesion structures in IRM:\n",
    "\n",
    "- a U-Net with paired IRM-IF images\n",
    "- a Pix2Pix network with paired IRM-IF images\n",
    "- a CycleGAN with paired IRM-IF images\n",
    "- a newly proposed 2LGAN with paired and unpaired IRM-IF images\n",
    "\n",
    "\n",
    "<img src=\"..\\nets.png\" width=\"600\" align=\"center\"/>"
   ]
  },
  {
   "cell_type": "code",
   "execution_count": null,
   "id": "01b76560",
   "metadata": {},
   "outputs": [],
   "source": [
    "from irm2fl.data.TFRecords import TFRecords\n",
    "from irm2fl.models.Trainer import Trainer\n",
    "\n",
    "from irm2fl.models import UNet, Pix2Pix, CycleGAN, TwoLGAN\n",
    "from irm2fl.models.modules import CARE, FNet, PatchGAN32, PatchGAN34\n",
    "\n",
    "import irm2fl.models.Losses as Losses"
   ]
  },
  {
   "cell_type": "code",
   "execution_count": null,
   "id": "b9199993",
   "metadata": {},
   "outputs": [],
   "source": [
    "def get_data(dataset_name_paired=None, dataset_name_unpaired=None):\n",
    "    \n",
    "    data_paired = TFRecords(dir_tfrecords = r'tfrecords/{}'.format(dataset_name_paired),\n",
    "                            dict_input  = {'feature_name': 'image_irm', 'patch_size': (192, 192, 3)},\n",
    "                            dict_target = {'feature_name': 'image_if_paired', 'patch_size': (192, 192, 1)})\n",
    "    \n",
    "    if dataset_name_unpaired is None:\n",
    "        return [data_paired]\n",
    "    else:\n",
    "        data_unpaired = TFRecords(dir_tfrecords = r'tfrecords/{}'.format(dataset_name_unpaired),\n",
    "                                  dict_input  = {'feature_name': 'image_if_unpaired', 'patch_size': (192, 192, 1)})\n",
    "        return [data_paired, data_unpaired]"
   ]
  },
  {
   "cell_type": "markdown",
   "id": "31eabd62",
   "metadata": {},
   "source": [
    "### U-Net"
   ]
  },
  {
   "cell_type": "code",
   "execution_count": null,
   "id": "30f467eb",
   "metadata": {},
   "outputs": [],
   "source": [
    "ds = 'ds1'\n",
    "\n",
    "for loss, final_activation in [(Losses.MSE(), None),\n",
    "                               (Losses.MS_SSIM(n_scales=1), 'sigmoid')]:\n",
    "\n",
    "    data = get_data(dataset_name_paired = f'{ds}_192px_irm2fl')\n",
    "    \n",
    "    model_name = f'UNet_{loss.name}'\n",
    "\n",
    "    generator = FNet(final_activation=final_activation)\n",
    "\n",
    "    model = UNet(generator = generator)\n",
    "    model.dir_model = r\"models/{}/{}\".format(ds, model_name)\n",
    "\n",
    "    MyTrainer = Trainer(data=data, model=model)\n",
    "\n",
    "    MyTrainer.train(loss=loss, epochs=10)\n",
    "    MyTrainer.plot_examples(display=True)\n",
    "    MyTrainer.evaluate()"
   ]
  },
  {
   "cell_type": "markdown",
   "id": "555c5c32",
   "metadata": {},
   "source": [
    "### Pix2Pix"
   ]
  },
  {
   "cell_type": "code",
   "execution_count": null,
   "id": "6d995481",
   "metadata": {},
   "outputs": [],
   "source": [
    "ds = 'ds1'\n",
    "\n",
    "for loss, final_activation in [(Losses.MSE(), None),\n",
    "                               (Losses.MS_SSIM(n_scales=1), 'sigmoid')]:\n",
    "\n",
    "    \n",
    "    data = get_data(dataset_name_paired = f'{ds}_192px_irm2fl')\n",
    "\n",
    "    model_name = f'P2P_{loss.name}'\n",
    "\n",
    "    generator = FNet(final_activation=final_activation)\n",
    "    discriminator = PatchGAN32(input_shape=(128,128,2))\n",
    "\n",
    "    model = Pix2Pix(\n",
    "                generator = FNet(final_activation=final_activation),\n",
    "                discriminator = PatchGAN32(input_shape=(128,128,2)),\n",
    "                   )\n",
    "\n",
    "    model.dir_model = r\"models/{}/{}\".format(ds, model_name)\n",
    "\n",
    "    MyTrainer = Trainer(data=data, model=model)\n",
    "\n",
    "    MyTrainer.train(loss=loss, epochs=10)\n",
    "    MyTrainer.plot_examples(display=True)\n",
    "    MyTrainer.evaluate()"
   ]
  },
  {
   "cell_type": "markdown",
   "id": "0c2ed637",
   "metadata": {},
   "source": [
    "### CycleGAN"
   ]
  },
  {
   "cell_type": "code",
   "execution_count": null,
   "id": "63fcff58",
   "metadata": {},
   "outputs": [],
   "source": [
    "ds = 'ds1'\n",
    "\n",
    "for loss, final_activation in [(Losses.MAE(), 'sigmoid'),\n",
    "                               (Losses.MS_SSIM(n_scales=1), 'sigmoid')]:\n",
    "\n",
    "    data = get_data(dataset_name_paired   = f'{ds}_192px_irm2fl',\n",
    "                    dataset_name_unpaired = f'ds3_192px_fl-only')\n",
    "\n",
    "    model_name = f'CG_{loss.name}'\n",
    "\n",
    "    model = CycleGAN(\n",
    "                generator  = CARE(final_activation=final_activation),\n",
    "                generator2 = CARE(final_activation=final_activation),\n",
    "                discriminator  = PatchGAN34(input_shape=(128,128,1)),\n",
    "                discriminator2 = PatchGAN34(input_shape=(128,128,1))\n",
    "                   )\n",
    "\n",
    "    model.dir_model = r\"models/{}/{}\".format(ds, model_name)\n",
    "\n",
    "    MyTrainer = Trainer(data=data, model=model)\n",
    "\n",
    "    MyTrainer.train(loss=loss, epochs=10)\n",
    "    MyTrainer.plot_examples(display=True)\n",
    "    MyTrainer.evaluate()"
   ]
  },
  {
   "cell_type": "markdown",
   "id": "81b9e682",
   "metadata": {},
   "source": [
    "### 2LGAN"
   ]
  },
  {
   "cell_type": "code",
   "execution_count": null,
   "id": "19d94731",
   "metadata": {},
   "outputs": [],
   "source": [
    "ds = 'ds1'\n",
    "\n",
    "for loss, final_activation in [(Losses.MAE(), 'sigmoid'),\n",
    "                               (Losses.MS_SSIM(n_scales=1), 'sigmoid')]:\n",
    "\n",
    "    data = get_data(dataset_name_paired   = f'{ds}_192px_irm2fl',\n",
    "                    dataset_name_unpaired = f'ds3_192px_fl-only')\n",
    "\n",
    "    model_name = f'2LG_{loss.name}'\n",
    "\n",
    "    model = TwoLGAN(\n",
    "                generator  = CARE(final_activation=final_activation),\n",
    "                generator2 = CARE(final_activation=final_activation),\n",
    "                discriminator  = PatchGAN34(input_shape=(128,128,1)),\n",
    "                   )\n",
    "\n",
    "    model.dir_model = r\"models/{}/{}\".format(ds, model_name)\n",
    "\n",
    "    MyTrainer = Trainer(data=data, model=model)\n",
    "\n",
    "    MyTrainer.train(loss=loss, epochs=10)\n",
    "    MyTrainer.plot_examples(display=True)\n",
    "    MyTrainer.evaluate()"
   ]
  }
 ],
 "metadata": {
  "kernelspec": {
   "display_name": "irm2fl",
   "language": "python",
   "name": "irm2fl"
  },
  "language_info": {
   "codemirror_mode": {
    "name": "ipython",
    "version": 3
   },
   "file_extension": ".py",
   "mimetype": "text/x-python",
   "name": "python",
   "nbconvert_exporter": "python",
   "pygments_lexer": "ipython3",
   "version": "3.9.0"
  }
 },
 "nbformat": 4,
 "nbformat_minor": 5
}
