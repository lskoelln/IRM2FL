{
 "cells": [
  {
   "cell_type": "markdown",
   "id": "66612e90",
   "metadata": {},
   "source": [
    "## Generation of the Training Data for IRM2FL"
   ]
  },
  {
   "cell_type": "code",
   "execution_count": null,
   "id": "851f449b",
   "metadata": {},
   "outputs": [],
   "source": [
    "from irm2fl.data.TFRecords import TFRecords, get_dataset\n",
    "from irm2fl.models.Trainer import AUGMENTATIONS_TRAIN_DEFAULT, AUGMENTATIONS_VAL_DEFAULT\n",
    "import irm2fl.data.Normalisation as Normalisation"
   ]
  },
  {
   "cell_type": "markdown",
   "id": "848e4d78",
   "metadata": {},
   "source": [
    "### TODO: 1 - Download Image Data"
   ]
  },
  {
   "cell_type": "markdown",
   "id": "50c6fd2e",
   "metadata": {},
   "source": [
    "### 2 - Create TFRecord Files\n",
    "\n",
    "Paired image pairs of size (192, 192, n_ch) px are generated from interference reflection and fluorescence images. Image patches are then saved in TFRecords files in the folders 'data\\FOLDER-NAME\\irm' or '...\\fl', respectively."
   ]
  },
  {
   "cell_type": "code",
   "execution_count": null,
   "id": "923e55a6",
   "metadata": {},
   "outputs": [],
   "source": [
    "dataset_name = 'ds1_192px_irm2fl'\n",
    "\n",
    "MyTFRecords = TFRecords( basedir     = 'data\\ds1',\n",
    "                         dict_input  =  {'dir_images'    : 'irm',\n",
    "                                         'feature_name'  : 'image_irm',\n",
    "                                         'normalisation' : Normalisation.Standardisation(mean=0.5, std=0.11, clip=[0,1]),\n",
    "                                         'patch_size'    : (192,192,3)},\n",
    "                         dict_target =  {'dir_images'    : 'fl',\n",
    "                                         'feature_name'  : 'image_if_paired',\n",
    "                                         'normalisation' : Normalisation.Percentile(pmin=10, pmax=99.5, inverted_image=True),\n",
    "                                         'patch_size'    : (192,192,1)},\n",
    "                         patch_resizing_factor = None,\n",
    "                         final_pixel_size_in_nm = 90.122,\n",
    "                         sample_description=u\"Dataset ID: ds1; Cell type: MeT5a; \" \\\n",
    "                                            + u\"Fixation agent: PFA; Mountant: PBS. \" \\\n",
    "                                            + u\"'image_irm': IRM images obtained at (488, 552, 638) nm.\" \\\n",
    "                                            + u\"'image_if_paired': IF image of anti-paxillin antibody (Y113).\",\n",
    "                         dir_tfrecords = r'tfrecords\\{}'.format(dataset_name) )\n",
    "\n",
    "MyTFRecords.create(n_patches_per_image=1000, n_tfrecords=100 )\n",
    "MyTFRecords.check_example(index_tfr=0, index_entry=4)"
   ]
  },
  {
   "cell_type": "code",
   "execution_count": null,
   "id": "e44b8a07",
   "metadata": {},
   "outputs": [],
   "source": [
    "dataset_name = 'ds2_192px_irm2fl'\n",
    "\n",
    "MyTFRecords = TFRecords( basedir     = 'data\\ds2',\n",
    "                         dict_input  =  {'dir_images'    : 'irm',\n",
    "                                         'feature_name'  : 'image_irm',\n",
    "                                         'normalisation' : Normalisation.Standardisation(mean=0.5, std=0.11, clip=[0,1]),\n",
    "                                         'patch_size'    : (192,192,3)},\n",
    "                         dict_target =  {'dir_images'    : 'fl',\n",
    "                                         'feature_name'  : 'image_if_paired',\n",
    "                                         'normalisation' : Normalisation.Percentile(pmin=10, pmax=99.5, inverted_image=True),\n",
    "                                         'patch_size'    : (192,192,1)},\n",
    "                         patch_resizing_factor = None,\n",
    "                         final_pixel_size_in_nm = 90.122,\n",
    "                         sample_description = u\"Dataset ID: ds2; Cell type: U2OS; \" \\\n",
    "                                            + u\"Fixation agent: FA-GA; Mountant: ProLong Diamond. \" \\\n",
    "                                            + u\"'image_irm': IRM images obtained at (488, 552, 638) nm.\" \\\n",
    "                                            + u\"'image_if_paired': IF image of anti-paxillin antibody (Y113).\",\n",
    "                         dir_tfrecords = r'tfrecords\\{}'.format(dataset_name) )\n",
    "\n",
    "MyTFRecords.create(n_patches_per_image=1000, n_tfrecords=100 )\n",
    "MyTFRecords.check_example(index_tfr=2, index_entry=4)"
   ]
  },
  {
   "cell_type": "code",
   "execution_count": null,
   "id": "57b2dd17",
   "metadata": {},
   "outputs": [],
   "source": [
    "dataset_name = 'ds3_192px_fl-only'\n",
    "\n",
    "MyTFRecords = TFRecords( basedir     = 'data\\ds3_fl-only',\n",
    "                         dict_input  =  {'dir_images'    : 'fl',\n",
    "                                         'feature_name'  : 'image_if_unpaired',\n",
    "                                         'normalisation' : Normalisation.Percentile(pmin=10, pmax=99.5, inverted_image=True),\n",
    "                                         'patch_size'    : (192*2, 192*2, 1)},\n",
    "                         dict_target =  None,\n",
    "                         patch_resizing_factor = 0.5,\n",
    "                         final_pixel_size_in_nm = 90.122,\n",
    "                         sample_description = u\"Dataset ID: ds3_fl-only; Cell type: U2OS; \" \\\n",
    "                                            + u\"Fixation agent: Glyoxal (pH 5); Mountant: ProLong Diamond. \" \\\n",
    "                                            + u\"'image_if_unpaired': IF image of anti-paxillin antibody (Y113), downsampled by a factor of 2.\",\n",
    "                         dir_tfrecords = r'tfrecords\\{}'.format(dataset_name) )\n",
    "\n",
    "\n",
    "MyTFRecords.create(n_patches_per_image=2000, n_tfrecords=100)\n",
    "MyTFRecords.check_example(index_tfr=0, index_entry=4)"
   ]
  }
 ],
 "metadata": {
  "kernelspec": {
   "display_name": "irm2fl",
   "language": "python",
   "name": "irm2fl"
  },
  "language_info": {
   "codemirror_mode": {
    "name": "ipython",
    "version": 3
   },
   "file_extension": ".py",
   "mimetype": "text/x-python",
   "name": "python",
   "nbconvert_exporter": "python",
   "pygments_lexer": "ipython3",
   "version": "3.9.0"
  }
 },
 "nbformat": 4,
 "nbformat_minor": 5
}
